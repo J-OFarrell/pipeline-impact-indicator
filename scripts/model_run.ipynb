{
 "cells": [
  {
   "cell_type": "code",
   "execution_count": 4,
   "metadata": {},
   "outputs": [
    {
     "name": "stdout",
     "output_type": "stream",
     "text": [
      "/home/jemima/Data/NigerDelta_MangroveClassification/scripts\n"
     ]
    }
   ],
   "source": [
    "# Importing libraries and preprocessing scripts\n",
    "import os\n",
    "import numpy as np\n",
    "import pandas as pd\n",
    "import xarray as xr\n",
    "import matplotlib.pyplot as plt\n",
    "import matplotlib.colors as colors\n",
    "import matplotlib.patches as mpatches\n",
    "\n",
    "from pickle import dump , load\n",
    "import xgboost as xgb\n",
    "from hmmlearn import hmm\n",
    "\n",
    "import importlib\n",
    "import sys\n",
    "sys.path.append('../src/')\n",
    "import run_model as rm\n",
    "importlib.reload(rm)\n",
    "\n",
    "this_path = os.getcwd()\n",
    "print(this_path)"
   ]
  },
  {
   "cell_type": "markdown",
   "metadata": {},
   "source": [
    "# Run Classification Model\n"
   ]
  },
  {
   "cell_type": "code",
   "execution_count": null,
   "metadata": {},
   "outputs": [],
   "source": [
    "scaler_path = '../model_versions/std_scaler.pkl'\n",
    "model_path = '../model_versions/final_model.json'\n",
    "\n",
    "df_train = pd.read_csv(\"../training_data/training_cleaned_scaled_fsel.csv\")\n",
    "var_cols = [c for c in df_train.columns if c not in  ['class']]\n",
    "\n",
    "for year in np.linspace(2016,2023,8).astype(int):\n",
    "    f_path, outpath = \"../production_data/riverstate/\"+str(year)+\".nc\", \"../test_results/riverstate/\"+str(year)+\".nc\"\n",
    "    rm.run_model(f_path, outpath, var_cols, scaler_path, model_path, save_results=True, plot_results=False)"
   ]
  },
  {
   "cell_type": "markdown",
   "metadata": {},
   "source": [
    "# Hidden Markov Model"
   ]
  },
  {
   "cell_type": "code",
   "execution_count": 3,
   "metadata": {},
   "outputs": [],
   "source": [
    "def stack_res(dirpath):\n",
    "    f_list = sorted([filename for filename in os.listdir(dirpath)])\n",
    "    da_list = []\n",
    "    for fname in f_list:\n",
    "        da_list.append(xr.open_dataarray(dirpath+fname,mask_and_scale=True))\n",
    "    da_merge = xr.concat(da_list, dim='time') \n",
    "    return da_merge\n",
    "\n",
    "da_res = stack_res(\"../test_results/riverstate/\")  "
   ]
  },
  {
   "cell_type": "code",
   "execution_count": 6,
   "metadata": {},
   "outputs": [
    {
     "name": "stdout",
     "output_type": "stream",
     "text": [
      "Number of hidden states : 3\n",
      "Number of observations  : 3\n",
      "State probability:  [0.15 0.4  0.45]\n",
      "\n",
      "Transition probability:\n",
      " [[1.  0.  0. ]\n",
      " [0.4 0.6 0. ]\n",
      " [0.1 0.  0.9]]\n",
      "\n",
      "Emission probability:\n",
      " [[1.  0.  0. ]\n",
      " [0.3 0.6 0.1]\n",
      " [0.1 0.1 0.8]]\n"
     ]
    }
   ],
   "source": [
    "# Define the state space\n",
    "states = ['Bare','Standard Mangroves','Tall Mangroves/Forest']\n",
    "n_states = len(states)\n",
    "print('Number of hidden states :',n_states)\n",
    "\n",
    "# Define the observation space\n",
    "observations = [0, 1, 2]\n",
    "n_observations = len(observations)\n",
    "print('Number of observations  :',n_observations)\n",
    "\n",
    "# Define the initial state distribution\n",
    "# The start probabilities represent the probabilities of starting in each of the hidden states\n",
    "state_probability = np.array([0.15, 0.4, 0.45])\n",
    "print(\"State probability: \", state_probability)\n",
    " \n",
    "# Define the state transition probabilities\n",
    "# The transition probabilities represent the probabilities of transitioning from one hidden state to another\n",
    "transition_probability = np.array([[1.0, 0.0, 0.0], #from bare\n",
    "                                   [0.4, 0.6, 0.0], #from standard mangroves\n",
    "                                   [0.1, 0.0, 0.9]]) #from forest\n",
    "print(\"\\nTransition probability:\\n\", transition_probability)\n",
    "\n",
    "# Define the observation likelihoods\n",
    "# The emission probabilities represent the probabilities of observing each of the outputs given a hidden state\n",
    "emission_probability= np.array([   [1.0, 0.0, 0.0], \n",
    "                                   [0.3, 0.6, 0.1], \n",
    "                                   [0.1, 0.1, 0.8]])\n",
    "print(\"\\nEmission probability:\\n\", emission_probability)\n",
    "\n",
    "model = hmm.CategoricalHMM(n_components=n_states)\n",
    "model.startprob_ = state_probability\n",
    "model.transmat_ = transition_probability\n",
    "model.emissionprob_ = emission_probability"
   ]
  },
  {
   "cell_type": "code",
   "execution_count": 14,
   "metadata": {},
   "outputs": [
    {
     "name": "stdout",
     "output_type": "stream",
     "text": [
      "(8, 6432, 5571)\n",
      " Progress complete (%) - 22.29402261712439454"
     ]
    },
    {
     "name": "stderr",
     "output_type": "stream",
     "text": [
      "/tmp/ipykernel_2584258/2528855661.py:8: RuntimeWarning: invalid value encountered in cast\n",
      "  arr[:,j,i] = model.predict(arr[:,j,i].reshape(-1,1).astype(int))\n"
     ]
    },
    {
     "name": "stdout",
     "output_type": "stream",
     "text": [
      " Progress complete (%) - 99.982049901274465"
     ]
    }
   ],
   "source": [
    "arr = da_res.to_numpy()\n",
    "print(arr.shape)\n",
    "\n",
    "for i in range(arr.shape[2]):\n",
    "    for j in range(arr.shape[1]):\n",
    "        if str(arr[0,j,i]) != 'nan':\n",
    "            try:\n",
    "                arr[:,j,i] = model.predict(arr[:,j,i].reshape(-1,1).astype(int))\n",
    "            except IndexError:\n",
    "                continue\n",
    "    print('\\r Progress complete (%) - '+str((i/arr.shape[2])*100), end='', flush=True)"
   ]
  },
  {
   "cell_type": "code",
   "execution_count": 17,
   "metadata": {},
   "outputs": [
    {
     "data": {
      "text/html": [
       "<div><svg style=\"position: absolute; width: 0; height: 0; overflow: hidden\">\n",
       "<defs>\n",
       "<symbol id=\"icon-database\" viewBox=\"0 0 32 32\">\n",
       "<path d=\"M16 0c-8.837 0-16 2.239-16 5v4c0 2.761 7.163 5 16 5s16-2.239 16-5v-4c0-2.761-7.163-5-16-5z\"></path>\n",
       "<path d=\"M16 17c-8.837 0-16-2.239-16-5v6c0 2.761 7.163 5 16 5s16-2.239 16-5v-6c0 2.761-7.163 5-16 5z\"></path>\n",
       "<path d=\"M16 26c-8.837 0-16-2.239-16-5v6c0 2.761 7.163 5 16 5s16-2.239 16-5v-6c0 2.761-7.163 5-16 5z\"></path>\n",
       "</symbol>\n",
       "<symbol id=\"icon-file-text2\" viewBox=\"0 0 32 32\">\n",
       "<path d=\"M28.681 7.159c-0.694-0.947-1.662-2.053-2.724-3.116s-2.169-2.030-3.116-2.724c-1.612-1.182-2.393-1.319-2.841-1.319h-15.5c-1.378 0-2.5 1.121-2.5 2.5v27c0 1.378 1.122 2.5 2.5 2.5h23c1.378 0 2.5-1.122 2.5-2.5v-19.5c0-0.448-0.137-1.23-1.319-2.841zM24.543 5.457c0.959 0.959 1.712 1.825 2.268 2.543h-4.811v-4.811c0.718 0.556 1.584 1.309 2.543 2.268zM28 29.5c0 0.271-0.229 0.5-0.5 0.5h-23c-0.271 0-0.5-0.229-0.5-0.5v-27c0-0.271 0.229-0.5 0.5-0.5 0 0 15.499-0 15.5 0v7c0 0.552 0.448 1 1 1h7v19.5z\"></path>\n",
       "<path d=\"M23 26h-14c-0.552 0-1-0.448-1-1s0.448-1 1-1h14c0.552 0 1 0.448 1 1s-0.448 1-1 1z\"></path>\n",
       "<path d=\"M23 22h-14c-0.552 0-1-0.448-1-1s0.448-1 1-1h14c0.552 0 1 0.448 1 1s-0.448 1-1 1z\"></path>\n",
       "<path d=\"M23 18h-14c-0.552 0-1-0.448-1-1s0.448-1 1-1h14c0.552 0 1 0.448 1 1s-0.448 1-1 1z\"></path>\n",
       "</symbol>\n",
       "</defs>\n",
       "</svg>\n",
       "<style>/* CSS stylesheet for displaying xarray objects in jupyterlab.\n",
       " *\n",
       " */\n",
       "\n",
       ":root {\n",
       "  --xr-font-color0: var(--jp-content-font-color0, rgba(0, 0, 0, 1));\n",
       "  --xr-font-color2: var(--jp-content-font-color2, rgba(0, 0, 0, 0.54));\n",
       "  --xr-font-color3: var(--jp-content-font-color3, rgba(0, 0, 0, 0.38));\n",
       "  --xr-border-color: var(--jp-border-color2, #e0e0e0);\n",
       "  --xr-disabled-color: var(--jp-layout-color3, #bdbdbd);\n",
       "  --xr-background-color: var(--jp-lay